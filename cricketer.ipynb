{
  "metadata": {
    "kernelspec": {
      "name": "python",
      "display_name": "Python (Pyodide)",
      "language": "python"
    },
    "language_info": {
      "codemirror_mode": {
        "name": "python",
        "version": 3
      },
      "file_extension": ".py",
      "mimetype": "text/x-python",
      "name": "python",
      "nbconvert_exporter": "python",
      "pygments_lexer": "ipython3",
      "version": "3.8"
    }
  },
  "nbformat_minor": 4,
  "nbformat": 4,
  "cells": [
    {
      "cell_type": "markdown",
      "source": "## 10. Create table cricketer(cid, cname, match, run) and insert 8 players records. Print player records with average. and write this data into player.csv file. Do all this task from python.¶",
      "metadata": {}
    },
    {
      "cell_type": "code",
      "source": "import sqlite3 as sq",
      "metadata": {
        "trusted": true
      },
      "outputs": [],
      "execution_count": 30
    },
    {
      "cell_type": "code",
      "source": "import csv",
      "metadata": {
        "trusted": true
      },
      "outputs": [],
      "execution_count": 31
    },
    {
      "cell_type": "code",
      "source": "con=sq.connect(\"D:\\\\sem-3\\\\python\\\\sqlite-tools-win-x64-3460100\\\\cricketer.db\")",
      "metadata": {
        "trusted": true
      },
      "outputs": [],
      "execution_count": 32
    },
    {
      "cell_type": "code",
      "source": "cur=con.cursor()",
      "metadata": {
        "trusted": true
      },
      "outputs": [],
      "execution_count": 33
    },
    {
      "cell_type": "code",
      "source": "q=\"create table if not exists player(cid int primary key,cname text,match,run)\"",
      "metadata": {
        "trusted": true
      },
      "outputs": [],
      "execution_count": 34
    },
    {
      "cell_type": "code",
      "source": "cur.execute(q)",
      "metadata": {
        "trusted": true
      },
      "outputs": [
        {
          "execution_count": 35,
          "output_type": "execute_result",
          "data": {
            "text/plain": "<sqlite3.Cursor at 0x29a0070>"
          },
          "metadata": {}
        }
      ],
      "execution_count": 35
    },
    {
      "cell_type": "code",
      "source": "con.commit()",
      "metadata": {
        "trusted": true
      },
      "outputs": [],
      "execution_count": 36
    },
    {
      "cell_type": "markdown",
      "source": "## inseert record",
      "metadata": {}
    },
    {
      "cell_type": "code",
      "source": "cur.execute(\"insert into player values(1,'rohit sharma',3,340)\")",
      "metadata": {
        "trusted": true
      },
      "outputs": [
        {
          "execution_count": 37,
          "output_type": "execute_result",
          "data": {
            "text/plain": "<sqlite3.Cursor at 0x29a0070>"
          },
          "metadata": {}
        }
      ],
      "execution_count": 37
    },
    {
      "cell_type": "code",
      "source": "cur.execute(\"insert into player values(2,'virat kohli',4,350)\")",
      "metadata": {
        "trusted": true
      },
      "outputs": [
        {
          "execution_count": 40,
          "output_type": "execute_result",
          "data": {
            "text/plain": "<sqlite3.Cursor at 0x29a0070>"
          },
          "metadata": {}
        }
      ],
      "execution_count": 40
    },
    {
      "cell_type": "code",
      "source": "cur.execute(\"insert into player values(3,'sachin tendulkar',5,440)\")",
      "metadata": {
        "trusted": true
      },
      "outputs": [
        {
          "execution_count": 41,
          "output_type": "execute_result",
          "data": {
            "text/plain": "<sqlite3.Cursor at 0x29a0070>"
          },
          "metadata": {}
        }
      ],
      "execution_count": 41
    },
    {
      "cell_type": "code",
      "source": "cur.execute(\"insert into player values(4,'MS dhawan',4,340)\")",
      "metadata": {
        "trusted": true
      },
      "outputs": [
        {
          "execution_count": 43,
          "output_type": "execute_result",
          "data": {
            "text/plain": "<sqlite3.Cursor at 0x29a0070>"
          },
          "metadata": {}
        }
      ],
      "execution_count": 43
    },
    {
      "cell_type": "code",
      "source": "cur.execute(\"insert into player values(5,'KL Rahul',3,440)\")",
      "metadata": {
        "trusted": true
      },
      "outputs": [
        {
          "execution_count": 44,
          "output_type": "execute_result",
          "data": {
            "text/plain": "<sqlite3.Cursor at 0x29a0070>"
          },
          "metadata": {}
        }
      ],
      "execution_count": 44
    },
    {
      "cell_type": "code",
      "source": "cur.execute(\"insert into player values(6,'Hardik pandya',5,540)\")",
      "metadata": {
        "trusted": true
      },
      "outputs": [
        {
          "execution_count": 45,
          "output_type": "execute_result",
          "data": {
            "text/plain": "<sqlite3.Cursor at 0x29a0070>"
          },
          "metadata": {}
        }
      ],
      "execution_count": 45
    },
    {
      "cell_type": "code",
      "source": "cur.execute(\"insert into player values(7,'shikhar dhawan',5,450)\")",
      "metadata": {
        "trusted": true
      },
      "outputs": [
        {
          "execution_count": 47,
          "output_type": "execute_result",
          "data": {
            "text/plain": "<sqlite3.Cursor at 0x29a0070>"
          },
          "metadata": {}
        }
      ],
      "execution_count": 47
    },
    {
      "cell_type": "code",
      "source": "cur.execute(\"insert into player values(8,'Ravindra jadeja',4,450)\")",
      "metadata": {
        "trusted": true
      },
      "outputs": [
        {
          "execution_count": 48,
          "output_type": "execute_result",
          "data": {
            "text/plain": "<sqlite3.Cursor at 0x29a0070>"
          },
          "metadata": {}
        }
      ],
      "execution_count": 48
    },
    {
      "cell_type": "code",
      "source": "con.commit()",
      "metadata": {
        "trusted": true
      },
      "outputs": [],
      "execution_count": 51
    },
    {
      "cell_type": "code",
      "source": "cur.execute(\"select * from player\")",
      "metadata": {
        "trusted": true
      },
      "outputs": [
        {
          "execution_count": 52,
          "output_type": "execute_result",
          "data": {
            "text/plain": "<sqlite3.Cursor at 0x29a0070>"
          },
          "metadata": {}
        }
      ],
      "execution_count": 52
    },
    {
      "cell_type": "code",
      "source": "rec=cur.fetchall()\nprint(rec)",
      "metadata": {
        "trusted": true
      },
      "outputs": [
        {
          "name": "stdout",
          "text": "[(1, 'rohit sharma', 3, 340), (2, 'virat kohli', 4, 350), (3, 'sachin tendulkar', 5, 440), (4, 'MS dhawan', 4, 340), (5, 'KL Rahul', 3, 440), (6, 'Hardik pandya', 5, 540), (7, 'shikhar dhawan', 5, 450), (8, 'Ravindra jadeja', 4, 450)]\n",
          "output_type": "stream"
        }
      ],
      "execution_count": 54
    },
    {
      "cell_type": "markdown",
      "source": "## calculate average",
      "metadata": {}
    },
    {
      "cell_type": "code",
      "source": "Cur.execute(\"select cid,cname,match,run,(run/match)as avg from player\")\nrec=cur.fetchall()\nprint(rec)",
      "metadata": {
        "trusted": true
      },
      "outputs": [],
      "execution_count": null
    },
    {
      "cell_type": "code",
      "source": "",
      "metadata": {
        "trusted": true
      },
      "outputs": [],
      "execution_count": null
    }
  ]
}